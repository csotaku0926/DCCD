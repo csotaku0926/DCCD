{
 "cells": [
  {
   "cell_type": "code",
   "execution_count": 1,
   "metadata": {},
   "outputs": [],
   "source": [
    "import pandas as pd\n",
    "import numpy as np\n",
    "import os\n",
    "import torch\n",
    "from torch.utils.data import Dataset, DataLoader\n",
    "import torch.nn as nn\n",
    "import torch.optim as optim\n",
    "from tqdm import tqdm\n",
    "\n",
    "# all the network and other def\n",
    "from utils import model_dataset, CoAttention, HMCAN\n",
    "\n",
    "# visualization of CoAttention\n",
    "import seaborn as sn\n",
    "import matplotlib.pyplot as plt\n",
    "\n",
    "from sklearn.metrics import accuracy_score, confusion_matrix, recall_score, precision_score, f1_score, roc_auc_score"
   ]
  },
  {
   "cell_type": "code",
   "execution_count": 2,
   "metadata": {},
   "outputs": [
    {
     "data": {
      "text/plain": [
       "device(type='cuda', index=0)"
      ]
     },
     "execution_count": 2,
     "metadata": {},
     "output_type": "execute_result"
    }
   ],
   "source": [
    "# specify GPU Device\n",
    "device = torch.device(\"cuda:0\" if torch.cuda.is_available() else \"cpu\")\n",
    "device"
   ]
  },
  {
   "cell_type": "code",
   "execution_count": 3,
   "metadata": {},
   "outputs": [],
   "source": [
    "df_train = pd.read_csv(\"../multimodal_only_samples/multimodal_train.tsv\", sep='\\t')\n",
    "df_valid = pd.read_csv(\"../multimodal_only_samples/multimodal_validate.tsv\", sep='\\t')\n",
    "df_test = pd.read_csv(\"../multimodal_only_samples/multimodal_test_public.tsv\", sep='\\t')"
   ]
  },
  {
   "cell_type": "code",
   "execution_count": 4,
   "metadata": {},
   "outputs": [
    {
     "data": {
      "text/plain": [
       "Index(['author', 'clean_title', 'created_utc', 'domain', 'hasImage', 'id',\n",
       "       'image_url', 'linked_submission_id', 'num_comments', 'score',\n",
       "       'subreddit', 'title', 'upvote_ratio', '2_way_label', '3_way_label',\n",
       "       '6_way_label'],\n",
       "      dtype='object')"
      ]
     },
     "execution_count": 4,
     "metadata": {},
     "output_type": "execute_result"
    }
   ],
   "source": [
    "df_train.columns"
   ]
  },
  {
   "cell_type": "markdown",
   "metadata": {},
   "source": [
    "## Comment"
   ]
  },
  {
   "cell_type": "code",
   "execution_count": 5,
   "metadata": {},
   "outputs": [
    {
     "name": "stdout",
     "output_type": "stream",
     "text": [
      "Comment count:\n",
      "[500, 500, 500, 500, 0, 500]\n"
     ]
    }
   ],
   "source": [
    "# read comments data from csv\n",
    "df_comments = pd.read_csv(\"../multimodal_only_samples/all_comments.tsv\", sep='\\t', encoding='utf-8', engine='python')\n",
    "df_comments = df_comments.drop(df_comments.columns[[0]], axis=1)\n",
    "df_comments = df_comments.dropna(subset=[\"id\", \"body\"])\n",
    "\n",
    "# create balanced data from it\n",
    "dfs = []\n",
    "comment_count = [0] * 6\n",
    "\n",
    "### length of #sample for each label\n",
    "sample_num = 500\n",
    "\n",
    "for label in range(6):\n",
    "    df = df_train.loc[df_train[\"6_way_label\"] == label].dropna(subset=['num_comments', 'domain', 'subreddit'])\n",
    "    df = df.loc[df[\"num_comments\"] > 2.0]\n",
    "\n",
    "    df = df.iloc[:sample_num]\n",
    "\n",
    "    comment_count[label] = len(df)\n",
    "\n",
    "    dfs.append(df)\n",
    "\n",
    "balanced_df_train = pd.concat(dfs)\n",
    "\n",
    "balanced_df_train = balanced_df_train.sample(frac=1)\n",
    "\n",
    "print(\"Comment count:\")\n",
    "print(comment_count)"
   ]
  },
  {
   "cell_type": "markdown",
   "metadata": {},
   "source": [
    "### dataset\n",
    "- word_embedding\n",
    "- sentence_embedding\n",
    "\n",
    "--> Read ModelDataset in model_dataset.py for details"
   ]
  },
  {
   "cell_type": "code",
   "execution_count": 7,
   "metadata": {},
   "outputs": [
    {
     "name": "stderr",
     "output_type": "stream",
     "text": [
      "  0%|          | 0/1250 [00:00<?, ?it/s]"
     ]
    },
    {
     "name": "stderr",
     "output_type": "stream",
     "text": [
      "100%|██████████| 1250/1250 [16:11<00:00,  1.29it/s]\n",
      "100%|██████████| 1250/1250 [09:12<00:00,  2.26it/s]\n"
     ]
    }
   ],
   "source": [
    "data_num = 1250\n",
    "assert(2 * data_num <= len(balanced_df_train))\n",
    "\n",
    "word_train_dataset = model_dataset.ModelDataset(balanced_df_train.iloc[:data_num], df_comments, k=2, token_max_length=20)\n",
    "word_valid_dataset = model_dataset.ModelDataset(balanced_df_train.iloc[data_num:2*data_num], df_comments, k=2, token_max_length=20)\n",
    "\n"
   ]
  },
  {
   "cell_type": "code",
   "execution_count": 8,
   "metadata": {},
   "outputs": [],
   "source": [
    "sbert_train_dataset = None #model_dataset.ModelDataset(balanced_df_train.iloc[:data_num], df_comments, k=2)\n",
    "sbert_valid_dataset = None #model_dataset.ModelDataset(balanced_df_train.iloc[data_num:2*data_num], df_comments, k=2)"
   ]
  },
  {
   "cell_type": "code",
   "execution_count": 9,
   "metadata": {},
   "outputs": [
    {
     "name": "stdout",
     "output_type": "stream",
     "text": [
      "word dataset shape\n",
      "embedding shape: torch.Size([1, 20, 1024])\n",
      "comment shape: torch.Size([2, 20, 1024])\n",
      "len of dataset: train: 1250, val: 1250\n"
     ]
    }
   ],
   "source": [
    "print(\"word dataset shape\")\n",
    "print(\"embedding shape:\", word_train_dataset[0][\"embedding\"].shape) # S: [num_layers, max_token, 384]\n",
    "print(\"comment shape:\", word_train_dataset[0][\"comment\"].shape) # C\n",
    "print(f\"len of dataset: train: {len(word_train_dataset)}, val: {len(word_valid_dataset)}\")\n",
    "\n",
    "# print(\"sbert dataset shape\")\n",
    "# print(\"embedding shape:\", sbert_train_dataset[0][\"embedding\"].shape) # S: [num_layers, 384]\n",
    "# print(\"comment shape:\", sbert_train_dataset[0][\"comment\"].shape) # C\n",
    "# print(f\"len of dataset: train: {len(sbert_train_dataset)}, val: {len(sbert_valid_dataset)}\")"
   ]
  },
  {
   "cell_type": "markdown",
   "metadata": {},
   "source": [
    "### Evaluation\n",
    "[guide](https://www.kaggle.com/code/nkitgupta/evaluation-metrics-for-multi-class-classification) for multiclass metrics"
   ]
  },
  {
   "cell_type": "code",
   "execution_count": 10,
   "metadata": {},
   "outputs": [],
   "source": [
    "# ROC-AUC curve\n",
    "def roc_auc_score_multiclass(actual_class, pred_class, average = \"macro\"):\n",
    "    \n",
    "    # creating a set of all the unique classes using the actual class list\n",
    "    unique_class = set(actual_class)\n",
    "    roc_auc_dict = {}\n",
    "    for per_class in unique_class:\n",
    "        \n",
    "        # creating a list of all the classes except the current class \n",
    "        other_class = [x for x in unique_class if x != per_class]\n",
    "\n",
    "        # marking the current class as 1 and all other classes as 0\n",
    "        new_actual_class = [0 if x in other_class else 1 for x in actual_class]\n",
    "        new_pred_class = [0 if x in other_class else 1 for x in pred_class]\n",
    "\n",
    "        # using the sklearn metrics method to calculate the roc_auc_score\n",
    "        roc_auc = roc_auc_score(new_actual_class, new_pred_class, average = average)\n",
    "        roc_auc_dict[per_class] = roc_auc\n",
    "\n",
    "    return roc_auc_dict\n",
    "\n",
    "\n",
    "def total_evaluate(network, best_weight_path:str, valid_dataset:Dataset):\n",
    "    \"\"\"\n",
    "    Evaluate @network for the best weight obtained in the @best_weight_path path\n",
    "    using @valid_loader to predict\n",
    "    Output different mertics for multi-class classification\n",
    "    \"\"\"\n",
    "    network.load_state_dict(torch.load(best_weight_path))\n",
    "    network.to(device)\n",
    "    network.eval()\n",
    "\n",
    "    all_preds = []\n",
    "    all_labels = []\n",
    "    all_outputs = []\n",
    "\n",
    "    count_labels = [0] * 6\n",
    "\n",
    "    valid_loader = DataLoader(valid_dataset, batch_size=32, shuffle=False)\n",
    "    with torch.no_grad():\n",
    "        for _, batch in enumerate(tqdm(valid_loader)):\n",
    "            embeddings = batch['embedding']\n",
    "            comments = batch['comment']\n",
    "            labels = batch['label']\n",
    "\n",
    "            _, label = torch.max(labels, 1)\n",
    "            for l in label:\n",
    "                count_labels[int(l)] += 1\n",
    "\n",
    "            # Forward pass\n",
    "            embeddings = embeddings.to(device)\n",
    "            comments = comments.to(device)\n",
    "            outputs = network(embeddings, comments)\n",
    "\n",
    "            # Predictions\n",
    "            _, preds = torch.max(outputs, 1)\n",
    "            preds = preds.cpu()\n",
    "\n",
    "            _, labels = torch.max(labels, 1)\n",
    "            labels = labels.cpu()\n",
    "\n",
    "            outputs = outputs.cpu()\n",
    "            all_preds.extend(preds.numpy())\n",
    "            all_labels.extend(labels.numpy())\n",
    "            all_outputs.extend(outputs.numpy())\n",
    "\n",
    "    # evaluation metrics:\n",
    "    # 1. accuracy\n",
    "    accuracy = accuracy_score(all_labels, all_preds)\n",
    "    print(f\"accuracy: {accuracy}\")\n",
    "\n",
    "    # 2. Macro, Micro score (P)\n",
    "    # Macro: calculate precision for each class and average them\n",
    "    macro_score = precision_score(all_labels, all_preds, average=\"macro\")\n",
    "    # Micro: calculate class wise TP and FP and use that to calculate overall score: tp / (tp + fp)\n",
    "    micro_score = precision_score(all_labels, all_preds, average=\"micro\")\n",
    "    print(f\"Macro precision: {macro_score}\")\n",
    "    print(f\"Micro precision: {micro_score}\")\n",
    "\n",
    "    # 3. Recall: TP / (TP+FN) (R)\n",
    "    macro_recall = recall_score(all_labels, all_preds, average='macro')\n",
    "    micro_recall = recall_score(all_labels, all_preds, average='micro')\n",
    "    print(f\"Macro recall: {macro_recall}\")\n",
    "    print(f\"Micro recall: {micro_recall}\")\n",
    "\n",
    "    # 4. F1 score: 2PR / (P+R)\n",
    "    macro_f1_score = f1_score(all_labels, all_preds, average='macro')\n",
    "    micro_f1_score = f1_score(all_labels, all_preds, average='micro')\n",
    "    print(f\"Macro F1: {macro_f1_score}\")\n",
    "    print(f\"Micro F1: {micro_f1_score}\")\n",
    "\n",
    "    # 5. Area under ROC curve\n",
    "    # ROC curve describes how well the model can distinguish between classes\n",
    "    roc_auc_dict = roc_auc_score_multiclass(all_labels, all_preds, average='macro')\n",
    "    print(\"Roc-auc score for each class:\")\n",
    "    print(roc_auc_dict)\n",
    "\n",
    "    # 6. confusion matrix\n",
    "    confusion_mat = confusion_matrix(all_labels, all_preds)\n",
    "    print('Confusion Matrix: ')\n",
    "\n",
    "    # visualize\n",
    "    df_cm = pd.DataFrame(\n",
    "        confusion_mat, \n",
    "        index=[i for i in \"01235\"],\n",
    "        columns=[i for i in \"01235\"],\n",
    "    )\n",
    "\n",
    "    plt.figure(figsize=(5, 5))\n",
    "    sn.heatmap(df_cm, annot=True)"
   ]
  },
  {
   "cell_type": "markdown",
   "metadata": {},
   "source": [
    "### networks\n",
    "- SBert_model: simply a FC layer with concat input (for SBERT embeddings)\n",
    "- HMCAN: hirarchical Multi-Modal Contextual Attention Network"
   ]
  },
  {
   "cell_type": "code",
   "execution_count": 16,
   "metadata": {},
   "outputs": [],
   "source": [
    "def experiment(network, train_dataset, valid_dataset, exp_name=\"test\"):\n",
    "    network.to(device)\n",
    "\n",
    "    batch_size = 16\n",
    "    learning_rate = 1e-3\n",
    "    epochs = 5\n",
    "\n",
    "    train_loader = DataLoader(train_dataset, batch_size=batch_size, shuffle=True)\n",
    "    valid_loader = DataLoader(valid_dataset, batch_size=batch_size, shuffle=False)\n",
    "\n",
    "    print(\"num of input samples:\", len(train_dataset))\n",
    "\n",
    "    # define loss and optimizer\n",
    "    # cce loss in TF is not equivalent with pytorch's CE loss!\n",
    "    criterion = nn.CrossEntropyLoss()\n",
    "    optimizer = optim.RMSprop(network.parameters(), lr=learning_rate)\n",
    "\n",
    "    # record best\n",
    "    best_acc = 0.0\n",
    "    weight_path = \"../models/weights/\"\n",
    "    best_weight_path = \"\"\n",
    "\n",
    "    # training loop\n",
    "    for epoch in range(epochs):\n",
    "        network.eval()\n",
    "        for _, batch in enumerate(tqdm(train_loader)):\n",
    "            embeddings = batch[\"embedding\"]\n",
    "            comments = batch[\"comment\"]\n",
    "            labels = batch[\"label\"]\n",
    "\n",
    "            # forward pass\n",
    "            embeddings = embeddings.to(device)\n",
    "            comments = comments.to(device)\n",
    "            outputs = network(embeddings, comments)\n",
    "            \n",
    "            # compute loss\n",
    "            labels = labels.to(device)\n",
    "            loss = criterion(outputs, labels)\n",
    "\n",
    "            # backward\n",
    "            optimizer.zero_grad()\n",
    "            loss.backward()\n",
    "            optimizer.step()\n",
    "\n",
    "        # validation after each epoch\n",
    "        network.eval()\n",
    "        all_preds = []\n",
    "        all_labels = []\n",
    "\n",
    "        with torch.no_grad():\n",
    "            for _, batch in enumerate(tqdm(valid_loader)):\n",
    "                embeddings = batch['embedding']\n",
    "                comments = batch['comment']\n",
    "                labels = batch['label']\n",
    "\n",
    "                # Forward pass\n",
    "                embeddings = embeddings.to(device)\n",
    "                comments = comments.to(device)\n",
    "                outputs = network(embeddings, comments)\n",
    "\n",
    "                # Predictions\n",
    "                _, preds = torch.max(outputs, 1)\n",
    "                preds = preds.cpu()\n",
    "\n",
    "                _, labels = torch.max(labels, 1)\n",
    "                labels = labels.cpu()\n",
    "\n",
    "                all_preds.extend(preds.numpy())\n",
    "                all_labels.extend(labels.numpy())\n",
    "\n",
    "        # Calculate accuracy\n",
    "        accuracy = accuracy_score(all_labels, all_preds)\n",
    "        print(f'Epoch {epoch + 1}/{epochs}, Accuracy: {accuracy:.4f}')\n",
    "\n",
    "        # save weight\n",
    "        if(accuracy > best_acc):\n",
    "            best_weight_path = os.path.join(weight_path, f\"{exp_name}_{int(accuracy*100)}.pth\")\n",
    "            torch.save(network.state_dict(), best_weight_path)\n",
    "            best_acc = accuracy\n",
    "    print(\"---------\\n\")\n",
    "\n",
    "    return best_weight_path"
   ]
  },
  {
   "cell_type": "code",
   "execution_count": 17,
   "metadata": {},
   "outputs": [],
   "source": [
    "## adjust experiement input here ##\n",
    "networks = [\n",
    "    # co-attention network\n",
    "    CoAttention.CoAttentionNetwork(feature_size=1024, word_attn=True),\n",
    "    CoAttention.CoAttentionNetwork(feature_size=1024, setting=\"defend_co\")\n",
    "    # fc network\n",
    "    # HMCAN.FC_model(),\n",
    "    # HMCAN.FC_model(feature_size=1024),\n",
    "    # # HMCAN\n",
    "    # HMCAN.HMCAN(),\n",
    "    # HMCAN.HMCAN(feature_size=1024),\n",
    "]\n",
    "\n",
    "loaders = [\"word\"] * (len(networks))\n",
    "names = [\"Co_word\", \"Co_no_co\", ]"
   ]
  },
  {
   "cell_type": "code",
   "execution_count": null,
   "metadata": {},
   "outputs": [],
   "source": [
    "# output weight path\n",
    "save_dirs = []\n",
    "\n",
    "for network, loader, name in zip(networks, loaders, names):\n",
    "    print(name)\n",
    "    # pick dataset\n",
    "    train_dataset = sbert_train_dataset\n",
    "    valid_dataset = sbert_valid_dataset\n",
    "    if (loader == \"word\"):\n",
    "        train_dataset = word_train_dataset\n",
    "        valid_dataset = word_valid_dataset\n",
    "\n",
    "    # apply\n",
    "    save_dirs.append(experiment(network, train_dataset, valid_dataset, name))"
   ]
  },
  {
   "cell_type": "code",
   "execution_count": 19,
   "metadata": {},
   "outputs": [
    {
     "data": {
      "text/plain": [
       "['../models/weights/Co_word_59.pth', '../models/weights/Co_no_co_54.pth']"
      ]
     },
     "execution_count": 19,
     "metadata": {},
     "output_type": "execute_result"
    }
   ],
   "source": [
    "save_dirs"
   ]
  },
  {
   "cell_type": "code",
   "execution_count": 20,
   "metadata": {},
   "outputs": [
    {
     "name": "stderr",
     "output_type": "stream",
     "text": [
      "  0%|          | 0/40 [00:00<?, ?it/s]"
     ]
    },
    {
     "name": "stderr",
     "output_type": "stream",
     "text": [
      "100%|██████████| 40/40 [05:25<00:00,  8.15s/it]\n"
     ]
    },
    {
     "name": "stdout",
     "output_type": "stream",
     "text": [
      "accuracy: 0.5952\n",
      "Macro precision: 0.619942227366937\n",
      "Micro precision: 0.5952\n",
      "Macro recall: 0.5961346979372847\n",
      "Micro recall: 0.5952\n",
      "Macro F1: 0.5885406047369548\n",
      "Micro F1: 0.5952\n",
      "Roc-auc score for each class:\n",
      "{0: 0.711538148160219, 1: 0.8146851458373575, 2: 0.6513922183293381, 3: 0.8382876969242311, 5: 0.7218391669173937}\n",
      "Confusion Matrix: \n",
      "----------\n",
      "\n"
     ]
    },
    {
     "name": "stderr",
     "output_type": "stream",
     "text": [
      "100%|██████████| 40/40 [05:48<00:00,  8.72s/it]\n"
     ]
    },
    {
     "name": "stdout",
     "output_type": "stream",
     "text": [
      "accuracy: 0.5408\n",
      "Macro precision: 0.5419764054318859\n",
      "Micro precision: 0.5408\n",
      "Macro recall: 0.5412674844239616\n",
      "Micro recall: 0.5408\n",
      "Macro F1: 0.5326049717480176\n",
      "Micro F1: 0.5408\n",
      "Roc-auc score for each class:\n",
      "{0: 0.6031841736466448, 1: 0.7645555662867813, 2: 0.6712228778658799, 3: 0.7879704301075269, 5: 0.7397243673319293}\n",
      "Confusion Matrix: \n",
      "----------\n",
      "\n"
     ]
    },
    {
     "data": {
      "image/png": "[encoded data removed]",
      "text/plain": [
       "<Figure size 500x500 with 2 Axes>"
      ]
     },
     "metadata": {},
     "output_type": "display_data"
    },
    {
     "data": {
      "image/png": "[encoded data removed]",
      "text/plain": [
       "<Figure size 500x500 with 2 Axes>"
      ]
     },
     "metadata": {},
     "output_type": "display_data"
    }
   ],
   "source": [
    "# evaluate the best model of each network\n",
    "for network, w_path, loader in zip(networks, save_dirs, loaders):\n",
    "    # pick dataset\n",
    "    valid_dataset = sbert_valid_dataset\n",
    "    if (loader == \"word\"):\n",
    "        valid_dataset = word_valid_dataset\n",
    "    \n",
    "    total_evaluate(network, w_path, valid_dataset)\n",
    "    print(\"----------\\n\")"
   ]
  }
 ],
 "metadata": {
  "kernelspec": {
   "display_name": "fakeddit",
   "language": "python",
   "name": "python3"
  },
  "language_info": {
   "codemirror_mode": {
    "name": "ipython",
    "version": 3
   },
   "file_extension": ".py",
   "mimetype": "text/x-python",
   "name": "python",
   "nbconvert_exporter": "python",
   "pygments_lexer": "ipython3",
   "version": "3.8.18"
  }
 },
 "nbformat": 4,
 "nbformat_minor": 2
}
